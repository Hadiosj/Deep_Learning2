{
 "cells": [
  {
   "cell_type": "code",
   "execution_count": 12,
   "metadata": {},
   "outputs": [],
   "source": [
    "from mnist.loader import MNIST\n",
    "import numpy as np\n",
    "import matplotlib.pyplot as plt\n",
    "import scipy.io\n",
    "from ipywidgets import interact\n",
    "from sklearn.metrics import mean_squared_error as mse"
   ]
  },
  {
   "cell_type": "code",
   "execution_count": 13,
   "metadata": {},
   "outputs": [],
   "source": [
    "def lire_alpha_digit(digits, chars):\n",
    "    \"\"\"\n",
    "    Takes as input alpha_digits and an array 'chars' containing the letters or integers to select from the alpha_digits\n",
    "    \"\"\"\n",
    "    indexes = []\n",
    "    for chr in chars:\n",
    "        # check if positive integer\n",
    "        if (chr.isdigit() and int(chr)<10 and int(chr)>0):\n",
    "            indexes.append(int(chr))\n",
    "        # check if letter\n",
    "        elif(chr.isalpha() and len(chr)==1):\n",
    "            indexes.append(ord(chr.lower()) - 87)\n",
    "    return digits[indexes, :]"
   ]
  },
  {
   "cell_type": "code",
   "execution_count": 14,
   "metadata": {},
   "outputs": [
    {
     "data": {
      "image/png": "[encoded data removed]",
      "text/plain": [
       "<Figure size 432x288 with 4 Axes>"
      ]
     },
     "metadata": {
      "needs_background": "light"
     },
     "output_type": "display_data"
    }
   ],
   "source": [
    "digits = scipy.io.loadmat('binaryalphadigs.mat')['dat']\n",
    "\n",
    "selected_digits = lire_alpha_digit(digits, ['3', '7', 'A', '-5', 'cb', 'X']) # -5 and 'cb' won't be taken into consideration\n",
    "\n",
    "fig, axs = plt.subplots(1, selected_digits.shape[0])\n",
    "for char in range(selected_digits.shape[0]):\n",
    "    axs[char].axis('off')\n",
    "    axs[char].imshow(selected_digits[char][7])"
   ]
  },
  {
   "attachments": {},
   "cell_type": "markdown",
   "metadata": {},
   "source": [
    "A file named 'MNIST' in the same directory should contain the training and testing files extracted, and renamed by replacing the '.' to a '-' <br>\n",
    "(ex: t10k-images.idx3-ubyte -> t10k-images-idx3-ubyte)"
   ]
  },
  {
   "cell_type": "code",
   "execution_count": 15,
   "metadata": {},
   "outputs": [],
   "source": [
    "mndata = MNIST('MNIST')\n",
    "X_train, y_train = mndata.load_training()\n",
    "X_test, y_test = mndata.load_testing()\n",
    "\n",
    "X_train = np.array(X_train)\n",
    "X_train = X_train.reshape(X_train.shape[0], 28, 28)\n",
    "y_train = np.array(y_train)\n",
    "\n",
    "X_test = np.array(X_test)\n",
    "X_test = X_test.reshape(X_test.shape[0], 28, 28)\n",
    "y_test = np.array(y_test)"
   ]
  },
  {
   "cell_type": "code",
   "execution_count": 16,
   "metadata": {},
   "outputs": [
    {
     "data": {
      "image/png": "[encoded data removed]",
      "text/plain": [
       "<Figure size 576x576 with 5 Axes>"
      ]
     },
     "metadata": {
      "needs_background": "light"
     },
     "output_type": "display_data"
    }
   ],
   "source": [
    "randoms = np.random.randint(0, X_train.shape[0], 5)\n",
    "\n",
    "fig, axs = plt.subplots(1, randoms.shape[0], figsize=(8,8))\n",
    "for char, ind in enumerate(randoms):\n",
    "    axs[char].axis('off')\n",
    "    axs[char].imshow(X_train[ind], cmap='gray')"
   ]
  },
  {
   "cell_type": "code",
   "execution_count": 17,
   "metadata": {},
   "outputs": [],
   "source": [
    "def black_white(X, threshold = 125):\n",
    "    \"\"\"\n",
    "    Convert grayscale images of input X to black-and-white images based on given threshold.\n",
    "    \"\"\"\n",
    "    XX = np.empty_like(X)\n",
    "    XX[X< threshold] = 0\n",
    "    XX[X>=threshold] = 1\n",
    "    XX = XX.reshape(*XX.shape, 1) \n",
    "    return XX"
   ]
  },
  {
   "cell_type": "code",
   "execution_count": 18,
   "metadata": {},
   "outputs": [
    {
     "data": {
      "image/png": "[encoded data removed]",
      "text/plain": [
       "<Figure size 576x576 with 5 Axes>"
      ]
     },
     "metadata": {
      "needs_background": "light"
     },
     "output_type": "display_data"
    }
   ],
   "source": [
    "#Testing black_white function\n",
    "X_train_new = black_white(X_train)\n",
    "\n",
    "fig, axs = plt.subplots(1, randoms.shape[0], figsize=(8,8))\n",
    "for char, ind in enumerate(randoms):\n",
    "    axs[char].axis('off')\n",
    "    axs[char].imshow(X_train_new[ind], cmap='gray')"
   ]
  },
  {
   "cell_type": "code",
   "execution_count": 42,
   "metadata": {},
   "outputs": [],
   "source": [
    "def sigmoid(x):\n",
    "    return 1/(1+np.exp(-x))\n",
    "\n",
    "class RBM:\n",
    "    def __init__(self, in_shape, out_shape, W=None, a=None, b=None, var=0.1):\n",
    "        assert in_shape != 0 and out_shape != 0\n",
    "        self.in_shape = in_shape\n",
    "        self.out_shape = out_shape\n",
    "        \n",
    "        self.a = a if a is not None else np.zeros(in_shape)\n",
    "        self.b = b if b is not None else np.zeros(out_shape)\n",
    "        self.W = W if W is not None else np.random.normal(0, var, (in_shape, out_shape))\n",
    "        assert self.W.shape == (in_shape, out_shape) and (self.a).shape[0] == in_shape and (self.b).shape[0] == out_shape\n",
    "        return\n",
    "    \n",
    "    def entree_sortie_RBM(self, X_input):\n",
    "        prod = np.dot(X_input, self.W) + self.b\n",
    "        assert prod.shape == (X_input.shape[0], self.out_shape), f\"prod shape {prod.shape} != (X_input.shape[0], self.out_shape) {(X_input.shape[0], self.out_shape)}\"\n",
    "        sig = sigmoid(prod)\n",
    "        return sig, np.random.binomial(1, sig, prod.shape)\n",
    "    \n",
    "    def sortie_entree_RBM(self, X_output):\n",
    "        prod = np.dot(X_output, self.W.T) + self.a\n",
    "        assert prod.shape == (X_output.shape[0], self.in_shape)\n",
    "        sig = sigmoid(prod)\n",
    "        return sig, np.random.binomial(1, sig, prod.shape)\n",
    "    \n",
    "    def train_RBM(self, X_input, epochs=10, learning_rate=0.01, batch_size=1, vis = False):\n",
    "        errors = []\n",
    "        for i in range(epochs):\n",
    "            for bat in range(0, X_input.shape[0], batch_size):\n",
    "                v_0 = X_input[bat:min(bat + batch_size, X_input.shape[0])]\n",
    "                curr_bsize = v_0.shape[0]\n",
    "                h_0p, h_0d = self.entree_sortie_RBM(v_0)\n",
    "                v_1p, v_1d = self.sortie_entree_RBM(h_0d)\n",
    "                h_1p, h_1d = self.entree_sortie_RBM(v_1d)\n",
    "                self.W = self.W + learning_rate * ((np.tensordot(v_0, h_0p, axes=((0),(0))) - np.tensordot(v_1p, h_1p, axes=((0),(0)))))\n",
    "                self.a = self.a + learning_rate * (np.sum(v_0 - v_1p, 0))\n",
    "                self.b = self.b + learning_rate * (np.sum(h_0p - h_1p, 0))\n",
    "            err = mse(v_0, v_1d)\n",
    "            errors.append(err)\n",
    "            if(vis):\n",
    "                print(f\"Epoch {i} mse:{err}\")\n",
    "        return errors\n",
    "    \n",
    "    \n",
    "    def generer_image_RBM(self, n_iter_gibbs, n_images, vis=True):\n",
    "        outputs = []\n",
    "        for i in range(n_images):\n",
    "            v_0 = np.random.binomial(1, np.random.rand(1, self.in_shape))\n",
    "            v_0d = v_0.copy()\n",
    "            for iter in range(n_iter_gibbs):\n",
    "                h_0p, h_0d = self.entree_sortie_RBM(v_0d)\n",
    "                v_0p, v_0d = self.sortie_entree_RBM(h_0d)\n",
    "            outputs.append(v_0d.reshape(20, 16))\n",
    "            if vis:\n",
    "                plt.figure()\n",
    "                plt.imshow(outputs[-1], cmap='gray')\n",
    "                plt.title(\"Generated image\")\n",
    "                plt.show()\n",
    "        return np.array(outputs)\n",
    "\n",
    "            "
   ]
  },
  {
   "cell_type": "code",
   "execution_count": 43,
   "metadata": {},
   "outputs": [
    {
     "name": "stdout",
     "output_type": "stream",
     "text": [
      "RBM shape: (8, 4)\n",
      "\n",
      "Input shape: (6, 8)\n",
      "After Entree_sortie: (6, 4)\n",
      "\n",
      "Input shape to hidden layer: (13, 4)\n",
      "After Sortie_Entree (13, 8)\n"
     ]
    }
   ],
   "source": [
    "testing_rbm = RBM(8, 4)\n",
    "print(\"RBM shape:\", testing_rbm.W.shape)\n",
    "\n",
    "# Testing entree_sortie_RBM\n",
    "in_try = np.random.randint(low=0, high=2, size = (6,8))\n",
    "print(\"\\nInput shape:\", in_try.shape)\n",
    "print(\"After Entree_sortie:\", testing_rbm.entree_sortie_RBM(in_try)[1].shape)\n",
    "\n",
    "# Testing sortie_entree_RBM\n",
    "out_try = np.random.randint(low=0, high=255, size = (13,4))\n",
    "print(\"\\nInput shape to hidden layer:\", out_try.shape)\n",
    "print(\"After Sortie_Entree\", testing_rbm.sortie_entree_RBM(out_try)[1].shape)\n"
   ]
  },
  {
   "cell_type": "code",
   "execution_count": 50,
   "metadata": {},
   "outputs": [
    {
     "data": {
      "image/png": "[encoded data removed]",
      "text/plain": [
       "<Figure size 432x288 with 1 Axes>"
      ]
     },
     "metadata": {
      "needs_background": "light"
     },
     "output_type": "display_data"
    }
   ],
   "source": [
    "img_RBM = RBM(320, 250) # 320 is the dimension of an (20x16) image flattened\n",
    "\n",
    "inputs = []\n",
    "for i in range(35):\n",
    "    inputs.append(selected_digits[0][i].flatten())\n",
    "inputs = np.array(inputs)\n",
    "\n",
    "\n",
    "plt.plot(img_RBM.train_RBM(inputs, 500, 0.01, 6));\n",
    "plt.title(\"Learning on char: 3\")\n",
    "plt.xlabel('Epochs');\n",
    "plt.ylabel('MSE');"
   ]
  },
  {
   "cell_type": "code",
   "execution_count": 26,
   "metadata": {},
   "outputs": [
    {
     "data": {
      "text/plain": [
       "(4, 39)"
      ]
     },
     "execution_count": 26,
     "metadata": {},
     "output_type": "execute_result"
    }
   ],
   "source": [
    "selected_digits.shape"
   ]
  },
  {
   "cell_type": "code",
   "execution_count": 53,
   "metadata": {},
   "outputs": [
    {
     "data": {
      "image/png": "[encoded data removed]",
      "text/plain": [
       "<Figure size 432x288 with 1 Axes>"
      ]
     },
     "metadata": {
      "needs_background": "light"
     },
     "output_type": "display_data"
    },
    {
     "data": {
      "image/png": "[encoded data removed]",
      "text/plain": [
       "<Figure size 432x288 with 1 Axes>"
      ]
     },
     "metadata": {
      "needs_background": "light"
     },
     "output_type": "display_data"
    },
    {
     "data": {
      "image/png": "[encoded data removed]",
      "text/plain": [
       "<Figure size 432x288 with 1 Axes>"
      ]
     },
     "metadata": {
      "needs_background": "light"
     },
     "output_type": "display_data"
    },
    {
     "data": {
      "image/png": "[encoded data removed]",
      "text/plain": [
       "<Figure size 432x288 with 1 Axes>"
      ]
     },
     "metadata": {
      "needs_background": "light"
     },
     "output_type": "display_data"
    }
   ],
   "source": [
    "img_RBM.generer_image_RBM(100, 4);"
   ]
  },
  {
   "cell_type": "code",
   "execution_count": null,
   "metadata": {},
   "outputs": [],
   "source": []
  }
 ],
 "metadata": {
  "kernelspec": {
   "display_name": "Python 3",
   "language": "python",
   "name": "python3"
  },
  "language_info": {
   "codemirror_mode": {
    "name": "ipython",
    "version": 3
   },
   "file_extension": ".py",
   "mimetype": "text/x-python",
   "name": "python",
   "nbconvert_exporter": "python",
   "pygments_lexer": "ipython3",
   "version": "3.8.5"
  },
  "orig_nbformat": 4,
  "vscode": {
   "interpreter": {
    "hash": "8c2dc7f55a4afb133f9671f18548a683b80d7f864af89313bd9839ac682f147f"
   }
  }
 },
 "nbformat": 4,
 "nbformat_minor": 2
}
