{
 "cells": [
  {
   "cell_type": "code",
   "execution_count": 420,
   "metadata": {},
   "outputs": [
    {
     "name": "stderr",
     "output_type": "stream",
     "text": [
      "d:\\anaconda3\\lib\\site-packages\\pandas\\core\\computation\\expressions.py:20: UserWarning: Pandas requires version '2.7.3' or newer of 'numexpr' (version '2.7.1' currently installed).\n",
      "  from pandas.core.computation.check import NUMEXPR_INSTALLED\n"
     ]
    }
   ],
   "source": [
    "from mnist.loader import MNIST\n",
    "import numpy as np\n",
    "import matplotlib.pyplot as plt\n",
    "from keras.utils import to_categorical\n",
    "import scipy.io\n",
    "from ipywidgets import interact\n",
    "from sklearn.metrics import mean_squared_error as mse\n",
    "from sklearn.metrics import accuracy_score"
   ]
  },
  {
   "cell_type": "code",
   "execution_count": 2,
   "metadata": {},
   "outputs": [],
   "source": [
    "def lire_alpha_digit(digits, chars):\n",
    "    \"\"\"\n",
    "    Takes as input alpha_digits and an array 'chars' containing the letters or integers to select from the alpha_digits\n",
    "    \"\"\"\n",
    "    indexes = []\n",
    "    for chr in chars:\n",
    "        # check if positive integer\n",
    "        if (chr.isdigit() and int(chr)<10 and int(chr)>0):\n",
    "            indexes.append(int(chr))\n",
    "        # check if letter\n",
    "        elif(chr.isalpha() and len(chr)==1):\n",
    "            indexes.append(ord(chr.lower()) - 87)\n",
    "    return digits[indexes, :]"
   ]
  },
  {
   "cell_type": "code",
   "execution_count": 3,
   "metadata": {},
   "outputs": [
    {
     "data": {
      "image/png": "[encoded data removed]",
      "text/plain": [
       "<Figure size 432x288 with 4 Axes>"
      ]
     },
     "metadata": {
      "needs_background": "light"
     },
     "output_type": "display_data"
    }
   ],
   "source": [
    "digits = scipy.io.loadmat('binaryalphadigs.mat')['dat']\n",
    "\n",
    "selected_digits = lire_alpha_digit(digits, ['3', '7', 'A', '-5', 'cb', 'X']) # -5 and 'cb' won't be taken into consideration\n",
    "\n",
    "fig, axs = plt.subplots(1, selected_digits.shape[0])\n",
    "for char in range(selected_digits.shape[0]):\n",
    "    axs[char].axis('off')\n",
    "    axs[char].imshow(selected_digits[char][7])"
   ]
  },
  {
   "attachments": {},
   "cell_type": "markdown",
   "metadata": {},
   "source": [
    "A file named 'MNIST' in the same directory should contain the training and testing files extracted, and renamed by replacing the '.' to a '-' <br>\n",
    "(ex: t10k-images.idx3-ubyte -> t10k-images-idx3-ubyte)"
   ]
  },
  {
   "cell_type": "code",
   "execution_count": 4,
   "metadata": {},
   "outputs": [],
   "source": [
    "mndata = MNIST('MNIST')\n",
    "X_train, y_train = mndata.load_training()\n",
    "X_test, y_test = mndata.load_testing()\n",
    "\n",
    "X_train = np.array(X_train)\n",
    "X_train = X_train.reshape(X_train.shape[0], 28, 28)\n",
    "y_train = np.array(y_train)\n",
    "\n",
    "X_test = np.array(X_test)\n",
    "X_test = X_test.reshape(X_test.shape[0], 28, 28)\n",
    "y_test = np.array(y_test)"
   ]
  },
  {
   "cell_type": "code",
   "execution_count": 5,
   "metadata": {},
   "outputs": [
    {
     "data": {
      "image/png": "[encoded data removed]",
      "text/plain": [
       "<Figure size 576x576 with 5 Axes>"
      ]
     },
     "metadata": {
      "needs_background": "light"
     },
     "output_type": "display_data"
    }
   ],
   "source": [
    "randoms = np.random.randint(0, X_train.shape[0], 5)\n",
    "\n",
    "fig, axs = plt.subplots(1, randoms.shape[0], figsize=(8,8))\n",
    "for char, ind in enumerate(randoms):\n",
    "    axs[char].axis('off')\n",
    "    axs[char].imshow(X_train[ind], cmap='gray')"
   ]
  },
  {
   "cell_type": "code",
   "execution_count": 6,
   "metadata": {},
   "outputs": [],
   "source": [
    "def black_white(X, threshold = 125):\n",
    "    \"\"\"\n",
    "    Convert grayscale images of input X to black-and-white images based on given threshold.\n",
    "    \"\"\"\n",
    "    XX = np.empty_like(X)\n",
    "    XX[X< threshold] = 0\n",
    "    XX[X>=threshold] = 1\n",
    "    XX = XX.reshape(*XX.shape, 1) \n",
    "    return XX"
   ]
  },
  {
   "cell_type": "code",
   "execution_count": 7,
   "metadata": {},
   "outputs": [
    {
     "data": {
      "image/png": "[encoded data removed]",
      "text/plain": [
       "<Figure size 576x576 with 5 Axes>"
      ]
     },
     "metadata": {
      "needs_background": "light"
     },
     "output_type": "display_data"
    }
   ],
   "source": [
    "#Testing black_white function\n",
    "X_train_new = black_white(X_train)\n",
    "\n",
    "fig, axs = plt.subplots(1, randoms.shape[0], figsize=(8,8))\n",
    "for char, ind in enumerate(randoms):\n",
    "    axs[char].axis('off')\n",
    "    axs[char].imshow(X_train_new[ind], cmap='gray')"
   ]
  },
  {
   "cell_type": "code",
   "execution_count": 248,
   "metadata": {},
   "outputs": [],
   "source": [
    "def sigmoid(x):\n",
    "    return 1/(1+np.exp(-x))\n",
    "\n",
    "class RBM:\n",
    "    def __init__(self, in_shape, out_shape, W=None, a=None, b=None, var=0.1):\n",
    "        assert in_shape != 0 and out_shape != 0\n",
    "        self.in_shape = in_shape\n",
    "        self.out_shape = out_shape\n",
    "        \n",
    "        self.a = a if a is not None else np.zeros(in_shape)\n",
    "        self.b = b if b is not None else np.zeros(out_shape)\n",
    "        self.W = W if W is not None else np.random.normal(0, var, (in_shape, out_shape))\n",
    "        assert self.W.shape == (in_shape, out_shape) and (self.a).shape[0] == in_shape and (self.b).shape[0] == out_shape\n",
    "        return\n",
    "    \n",
    "    def entree_sortie_RBM(self, X_input):\n",
    "        prod = np.dot(X_input, self.W) + self.b\n",
    "        assert prod.shape == (X_input.shape[0], self.out_shape), f\"prod shape {prod.shape} != (X_input.shape[0], self.out_shape) {(X_input.shape[0], self.out_shape)}\"\n",
    "        sig = sigmoid(prod)\n",
    "        return sig, np.random.binomial(1, sig, prod.shape) # Sampling from p(h|x)\n",
    "    \n",
    "    def sortie_entree_RBM(self, X_output):\n",
    "        prod = np.dot(X_output, self.W.T) + self.a\n",
    "        assert prod.shape == (X_output.shape[0], self.in_shape)\n",
    "        sig = sigmoid(prod)\n",
    "        return sig, np.random.binomial(1, sig, prod.shape)  # Samplign from p(x|h)\n",
    "    \n",
    "    def train_RBM(self, X_input, epochs=10, learning_rate=0.01, batch_size=1, vis = False):\n",
    "        errors = []\n",
    "        for i in range(epochs):\n",
    "            for bat in range(0, X_input.shape[0], batch_size):\n",
    "                v_0 = X_input[bat:min(bat + batch_size, X_input.shape[0])]\n",
    "                curr_bsize = v_0.shape[0]\n",
    "                h_0p, h_0d = self.entree_sortie_RBM(v_0)\n",
    "                v_1p, v_1d = self.sortie_entree_RBM(h_0d)\n",
    "                h_1p, h_1d = self.entree_sortie_RBM(v_1d)\n",
    "                self.W = self.W + learning_rate * ((np.tensordot(v_0, h_0p, axes=((0),(0))) - np.tensordot(v_1p, h_1p, axes=((0),(0)))))\n",
    "                self.a = self.a + learning_rate * (np.sum(v_0 - v_1p, 0))\n",
    "                self.b = self.b + learning_rate * (np.sum(h_0p - h_1p, 0))\n",
    "            err = mse(v_0, v_1d)\n",
    "            errors.append(err)\n",
    "            if(vis):\n",
    "                print(f\"Epoch {i} mse:{err}\")\n",
    "        return errors, self\n",
    "    \n",
    "    \n",
    "    def generer_image_RBM(self, n_iter_gibbs, n_images, vis=True):\n",
    "        outputs = []\n",
    "        for i in range(n_images):\n",
    "            v_0 = np.random.binomial(1, np.random.rand(1, self.in_shape))\n",
    "            v_0d = v_0.copy()\n",
    "            for iter in range(n_iter_gibbs):\n",
    "                h_0p, h_0d = self.entree_sortie_RBM(v_0d)\n",
    "                v_0p, v_0d = self.sortie_entree_RBM(h_0d)\n",
    "            outputs.append(v_0d.reshape(20, 16))\n",
    "            if vis:\n",
    "                plt.figure()\n",
    "                plt.imshow(outputs[-1], cmap='gray')\n",
    "                plt.title(\"Generated image\")\n",
    "                plt.show()\n",
    "        return np.array(outputs)\n",
    "\n",
    "            "
   ]
  },
  {
   "cell_type": "code",
   "execution_count": 45,
   "metadata": {},
   "outputs": [
    {
     "name": "stdout",
     "output_type": "stream",
     "text": [
      "RBM shape: (8, 4)\n",
      "\n",
      "Input shape: (6, 8)\n",
      "[[-0.14994053  0.19822895 -0.12788261 -0.36073653]\n",
      " [ 0.09857751 -0.04976644 -0.05381807  0.04441006]\n",
      " [ 0.21934773 -0.04261862 -0.16364475 -0.0995611 ]\n",
      " [ 0.12047108  0.03606248 -0.0773312  -0.10212811]\n",
      " [-0.01160703 -0.02048591 -0.27387504 -0.20414755]\n",
      " [ 0.27540539 -0.10249628 -0.12431648  0.09867614]]\n",
      "After Entree_sortie: (6, 4)\n",
      "\n",
      "Input shape to hidden layer: (13, 4)\n",
      "[[ 18.09166999  30.25321456  32.18902348  -6.3276418  -30.26363664\n",
      "  -26.09320833 -18.80929063 -10.00273437]\n",
      " [ -6.4821563   38.05112486   6.36933237   3.65572447 -23.14254012\n",
      "    2.14084291 -21.36901579  11.86342014]\n",
      " [ -0.56110574   1.81392464  40.17070639 -17.29477    -12.99794006\n",
      "  -18.15995349   7.30616424  -6.35868384]\n",
      " [  4.72879781   4.65886073  34.38929664 -13.25568802 -13.74162467\n",
      "  -17.10550435   4.29460758  -9.31486151]\n",
      " [ -7.34368535  20.07108605  23.72291724 -12.50412495 -18.25573369\n",
      "  -30.02290948 -29.21848505  23.07141627]\n",
      " [ 10.56740161  28.63546566  30.21245     -7.88156065 -27.65815705\n",
      "  -26.31484041 -21.57506389  -0.83856825]\n",
      " [ 13.172318    18.99831185  37.35565363 -11.28198621 -24.43001879\n",
      "  -25.56760499  -8.91281902 -10.41424319]\n",
      " [  5.62935272  26.69276676  24.68194298  -7.80126173 -24.23238587\n",
      "  -27.32623964 -26.3916711    7.79242276]\n",
      " [ -6.96573274  41.01110064   0.55358057   1.91411928 -23.6074875\n",
      "  -17.71383227 -46.41585735  30.83081995]\n",
      " [ 11.13205384  28.08065744  37.37186122 -12.51556763 -29.73566567\n",
      "  -37.00168191 -26.64891639   2.57205734]\n",
      " [  7.4459102   38.78117449  23.78788516  -3.86112683 -31.21286335\n",
      "  -22.75054466 -30.12052631   5.88148151]\n",
      " [  9.82761219  50.31926805   2.65957123   3.14650006 -32.56511772\n",
      "  -36.70240681 -64.33165866  27.39535321]\n",
      " [ -7.53277372  18.60961423   8.27040616  -2.70365343 -12.35958388\n",
      "   -6.81229092 -16.0205041   13.79041835]]\n",
      "After Sortie_Entree (13, 8)\n"
     ]
    }
   ],
   "source": [
    "testing_rbm = RBM(8, 4)\n",
    "print(\"RBM shape:\", testing_rbm.W.shape)\n",
    "\n",
    "# Testing entree_sortie_RBM\n",
    "in_try = np.random.randint(low=0, high=2, size = (6,8))\n",
    "print(\"\\nInput shape:\", in_try.shape)\n",
    "print(\"After Entree_sortie:\", testing_rbm.entree_sortie_RBM(in_try)[1].shape)\n",
    "\n",
    "# Testing sortie_entree_RBM\n",
    "out_try = np.random.randint(low=0, high=255, size = (13,4))\n",
    "print(\"\\nInput shape to hidden layer:\", out_try.shape)\n",
    "print(\"After Sortie_Entree\", testing_rbm.sortie_entree_RBM(out_try)[1].shape)\n"
   ]
  },
  {
   "cell_type": "code",
   "execution_count": 10,
   "metadata": {},
   "outputs": [
    {
     "data": {
      "text/plain": [
       "Text(0, 0.5, 'MSE')"
      ]
     },
     "execution_count": 10,
     "metadata": {},
     "output_type": "execute_result"
    },
    {
     "data": {
      "image/png": "[encoded data removed]",
      "text/plain": [
       "<Figure size 432x288 with 1 Axes>"
      ]
     },
     "metadata": {
      "needs_background": "light"
     },
     "output_type": "display_data"
    }
   ],
   "source": [
    "img_RBM = RBM(320, 250) # 320 is the dimension of an (20x16) image flattened\n",
    "\n",
    "inputs = []\n",
    "for i in range(35):\n",
    "    inputs.append(selected_digits[0][i].flatten())\n",
    "inputs = np.array(inputs)\n",
    "\n",
    "errors,_ = img_RBM.train_RBM(inputs, 500, 0.01, 6)\n",
    "\n",
    "plt.plot(errors)\n",
    "plt.title(\"Learning on char: 3\")\n",
    "plt.xlabel('Epochs')\n",
    "plt.ylabel('MSE')"
   ]
  },
  {
   "cell_type": "code",
   "execution_count": 11,
   "metadata": {},
   "outputs": [
    {
     "data": {
      "text/plain": [
       "(4, 39)"
      ]
     },
     "execution_count": 11,
     "metadata": {},
     "output_type": "execute_result"
    }
   ],
   "source": [
    "selected_digits.shape"
   ]
  },
  {
   "cell_type": "code",
   "execution_count": 12,
   "metadata": {},
   "outputs": [
    {
     "data": {
      "image/png": "[encoded data removed]",
      "text/plain": [
       "<Figure size 432x288 with 1 Axes>"
      ]
     },
     "metadata": {
      "needs_background": "light"
     },
     "output_type": "display_data"
    },
    {
     "data": {
      "image/png": "[encoded data removed]",
      "text/plain": [
       "<Figure size 432x288 with 1 Axes>"
      ]
     },
     "metadata": {
      "needs_background": "light"
     },
     "output_type": "display_data"
    },
    {
     "data": {
      "image/png": "[encoded data removed]",
      "text/plain": [
       "<Figure size 432x288 with 1 Axes>"
      ]
     },
     "metadata": {
      "needs_background": "light"
     },
     "output_type": "display_data"
    },
    {
     "data": {
      "image/png": "[encoded data removed]",
      "text/plain": [
       "<Figure size 432x288 with 1 Axes>"
      ]
     },
     "metadata": {
      "needs_background": "light"
     },
     "output_type": "display_data"
    }
   ],
   "source": [
    "img_RBM.generer_image_RBM(100, 4);"
   ]
  },
  {
   "cell_type": "code",
   "execution_count": 225,
   "metadata": {},
   "outputs": [],
   "source": [
    "class DBN:\n",
    "    def __init__(self, nb_layers, shapes_list, W=None, a=None, b=None, var=0.1):\n",
    "        \"\"\"\n",
    "        Used to define a DBN.\n",
    "\n",
    "        Attributes\n",
    "        ----------\n",
    "        nb_layers : int\n",
    "            an int defining the number of layers in the DBN\n",
    "        shapes_list : a list of integers \n",
    "            contains a sequence of the size of the hidden units, should contain (nb_layers + 1) elements\n",
    "\n",
    "        \"\"\"\n",
    "        self.layers = []\n",
    "        for i in range(nb_layers):\n",
    "\n",
    "            # Define the shapes of the hidden units for the RBM\n",
    "            in_shape = shapes_list[i]\n",
    "            out_shape = shapes_list[i+1]\n",
    "\n",
    "            # Define an RBM\n",
    "            rbm1 = RBM(in_shape,out_shape,W,a,b,var)\n",
    "\n",
    "            # Append the RBM to our structure\n",
    "            self.layers.append(rbm1)\n",
    "\n",
    "        return\n",
    "        \n",
    "    def train_DBN(self, X_input, epochs=10, learning_rate=0.01, batch_size=1, vis = False):\n",
    "\n",
    "        # Looping through the RBM layers and training each of them in a greedy layer wise procedure\n",
    "        Current_input = X_input.copy()\n",
    "\n",
    "        for i in range(len(self.layers)):\n",
    "            current_rbm = self.layers[i]\n",
    "            \n",
    "            errors, current_rbm = current_rbm.train_RBM(Current_input,epochs,learning_rate,batch_size,vis)\n",
    "            # Create the hidden dataset to train the next layer\n",
    "            _, Hidden_input = current_rbm.entree_sortie_RBM(Current_input)\n",
    "            Current_input = Hidden_input\n",
    "            \n",
    "        \n",
    "        return self\n",
    "    \n",
    "    def generer_image_DBN(self, n_iter_gibbs, n_images, vis=True):\n",
    "\n",
    "        # Do Gibbs sampling on the top layer:\n",
    "    \n",
    "        rbm_last = self.layers[-1]\n",
    "        outputs = []\n",
    "        for i in range(n_images):\n",
    "\n",
    "            v_0 = np.random.binomial(1, np.random.rand(1, rbm_last.in_shape))\n",
    "            v_0d = v_0.copy()\n",
    "            for iter in range(n_iter_gibbs):\n",
    "                _, h_0d = rbm_last.entree_sortie_RBM(v_0d)\n",
    "                _, v_0d = rbm_last.sortie_entree_RBM(h_0d)\n",
    "\n",
    "            # Generation by passing v_0d down the remaining layers\n",
    "            for i in range(len(self.layers) - 2 , -1, -1):\n",
    "                _, v_0d = self.layers[i].sortie_entree_RBM(v_0d)\n",
    "            outputs.append(v_0d.reshape(28,28))\n",
    "\n",
    "            if vis:\n",
    "                plt.figure()\n",
    "                plt.imshow(outputs[-1], cmap='gray')\n",
    "                plt.title(\"Generated image\")\n",
    "                plt.show()\n",
    "        return np.array(outputs)\n",
    "\n",
    "            \n",
    "\n",
    "\n",
    "\n",
    "\n",
    "            "
   ]
  },
  {
   "cell_type": "code",
   "execution_count": 14,
   "metadata": {},
   "outputs": [],
   "source": [
    "shapes_list1 = [320, 150, 200, 250]\n",
    "dbn1 = DBN(nb_layers = 3, shapes_list = shapes_list1)\n",
    "inputs = []\n",
    "for i in range(35):\n",
    "    inputs.append(selected_digits[1][i].flatten())\n",
    "inputs = np.array(inputs)\n",
    "\n",
    "dbn1 = dbn1.train_DBN(inputs, 500, 0.01, 6)"
   ]
  },
  {
   "cell_type": "code",
   "execution_count": 15,
   "metadata": {},
   "outputs": [
    {
     "data": {
      "image/png": "[encoded data removed]",
      "text/plain": [
       "<Figure size 432x288 with 1 Axes>"
      ]
     },
     "metadata": {
      "needs_background": "light"
     },
     "output_type": "display_data"
    },
    {
     "data": {
      "image/png": "[encoded data removed]",
      "text/plain": [
       "<Figure size 432x288 with 1 Axes>"
      ]
     },
     "metadata": {
      "needs_background": "light"
     },
     "output_type": "display_data"
    },
    {
     "data": {
      "image/png": "[encoded data removed]",
      "text/plain": [
       "<Figure size 432x288 with 1 Axes>"
      ]
     },
     "metadata": {
      "needs_background": "light"
     },
     "output_type": "display_data"
    },
    {
     "data": {
      "image/png": "[encoded data removed]",
      "text/plain": [
       "<Figure size 432x288 with 1 Axes>"
      ]
     },
     "metadata": {
      "needs_background": "light"
     },
     "output_type": "display_data"
    }
   ],
   "source": [
    "gen_array = dbn1.generer_image_DBN(100, 4)"
   ]
  },
  {
   "cell_type": "code",
   "execution_count": 16,
   "metadata": {},
   "outputs": [
    {
     "data": {
      "image/png": "[encoded data removed]",
      "text/plain": [
       "<Figure size 432x288 with 1 Axes>"
      ]
     },
     "metadata": {
      "needs_background": "light"
     },
     "output_type": "display_data"
    },
    {
     "data": {
      "image/png": "[encoded data removed]",
      "text/plain": [
       "<Figure size 432x288 with 1 Axes>"
      ]
     },
     "metadata": {
      "needs_background": "light"
     },
     "output_type": "display_data"
    },
    {
     "data": {
      "image/png": "[encoded data removed]",
      "text/plain": [
       "<Figure size 432x288 with 1 Axes>"
      ]
     },
     "metadata": {
      "needs_background": "light"
     },
     "output_type": "display_data"
    },
    {
     "data": {
      "image/png": "[encoded data removed]",
      "text/plain": [
       "<Figure size 432x288 with 1 Axes>"
      ]
     },
     "metadata": {
      "needs_background": "light"
     },
     "output_type": "display_data"
    }
   ],
   "source": [
    "# Let's compare this with the RBM used to generate the digit 7\n",
    "errors,_ = img_RBM.train_RBM(inputs, 500, 0.01, 6)\n",
    "img_RBM.generer_image_RBM(100, 4);"
   ]
  },
  {
   "attachments": {},
   "cell_type": "markdown",
   "metadata": {},
   "source": [
    "We can see that the DBN outperforms the RBM in generating the digit 7"
   ]
  },
  {
   "cell_type": "code",
   "execution_count": 480,
   "metadata": {},
   "outputs": [],
   "source": [
    "# DNN\n",
    "\n",
    "def calcul_softmax(rbm : RBM, X_input):\n",
    "    output = np.dot(X_input, rbm.W) + rbm.b\n",
    "    num =  np.exp(output - np.max(output))\n",
    "    den = num.sum(axis = 1).reshape(-1,1)\n",
    "    return num / den\n",
    "\n",
    "\n",
    "class DNN:\n",
    "    def __init__(self, nb_layers, shapes_list, W=None, a=None, b=None, var=0.1):\n",
    "        \"\"\"\n",
    "        Used to define a DBN.\n",
    "\n",
    "        Attributes\n",
    "        ----------\n",
    "        nb_layers : int\n",
    "            an int defining the number of layers in the DBN, the last layer should be used for classification\n",
    "        shapes_list : a list of integers \n",
    "            contains a sequence of the size of the hidden units, should contain (nb_layers + 1) elements\n",
    "\n",
    "        \"\"\"\n",
    "        # Define a DBN with nb_layers - 1\n",
    "\n",
    "        dbn1 = DBN(nb_layers-1,shapes_list[:-1])\n",
    "\n",
    "        self.dbn = dbn1\n",
    "        self.class_layer = RBM(shapes_list[-2],shapes_list[-1])\n",
    "\n",
    "        # Add a classification layer\n",
    "\n",
    "        return\n",
    "    \n",
    "    def pretrain_DNN(self, X_input, epochs=10, learning_rate=0.01, batch_size=1, vis = False):\n",
    "\n",
    "        self.dbn = self.dbn.train_DBN(X_input, epochs, learning_rate, batch_size, vis = False)\n",
    "\n",
    "        return self\n",
    "    \n",
    "    def entree_sortie_reseau(self, X_input):\n",
    "\n",
    "        list_outputs = []\n",
    "        list_outputs.append(X_input)\n",
    "\n",
    "        Current_input = X_input.copy()\n",
    "\n",
    "        # Loop through the RBM layers of the DBN and append each output to the list\n",
    "        for i in range(len(self.dbn.layers)):\n",
    "            Current_rbm = self.dbn.layers[i]\n",
    "            Current_input,_  = Current_rbm.entree_sortie_RBM(Current_input)\n",
    "            list_outputs.append(Current_input)\n",
    "\n",
    "        # Calculate the output of the softmax\n",
    "        output_classes = calcul_softmax(self.class_layer,Current_input)\n",
    "        list_outputs.append(output_classes)\n",
    "\n",
    "        return list_outputs\n",
    "    \n",
    "    def retropropagation(self, X_input, labels_input, epochs = 10, learning_rate = 0.1, batch_size = 64, vis = False):\n",
    "        cross_entropy = []\n",
    "        for i in range(epochs):\n",
    "            for bat in range(0, X_input.shape[0], batch_size):\n",
    "                X_bat = X_input[bat:min(bat + batch_size, X_input.shape[0])]\n",
    "                labels_bat = labels_input[bat:min(bat + batch_size, X_input.shape[0])]\n",
    "\n",
    "                # Calculate the forward pass of the network\n",
    "                list_outputs = self.entree_sortie_reseau(X_bat)\n",
    "\n",
    "                # Backpropagating through the last layer\n",
    "                \n",
    "                del_zo = list_outputs[-1] - labels_bat # del(loss) / del(z) , zo is right before the activation function of the output layer\n",
    "                del_wo  = np.dot(list_outputs[-2].T,del_zo) / X_bat.shape[0]\n",
    "                del_bo = np.mean(del_zo)\n",
    "                \n",
    "                \n",
    "                del_activl = np.dot(del_zo, self.class_layer.W.T) # derivative of the loss with respect to the output of the activation layer L\n",
    "\n",
    "                # Parameters update\n",
    "                self.class_layer.W -= learning_rate * del_wo\n",
    "                self.class_layer.b -= learning_rate * del_bo\n",
    "\n",
    "                # Backpropagation through the remaining layers\n",
    "                for i in range(len(self.dbn.layers) , 0, -1):\n",
    "\n",
    "                    # Backpropagation\n",
    "                    sigmoid_der = list_outputs[i] * (1 - list_outputs[i]) # if sigm(z) = y , then deriv(sigm(z)) = y(1-y)\n",
    "                    del_zl = del_activl * sigmoid_der\n",
    "                    del_wl = np.dot(list_outputs[i-1].T,del_zl) / X_bat.shape[0]\n",
    "                    del_bl = np.mean(del_zl)\n",
    "\n",
    "                     \n",
    "\n",
    "                    \n",
    "                    del_activl = np.dot(del_zl, self.dbn.layers[i-1].W.T)\n",
    "\n",
    "                    # Parameter update\n",
    "                    self.dbn.layers[i-1].W -= learning_rate * del_wl\n",
    "                    self.dbn.layers[i-1].b -= learning_rate * del_bl\n",
    "                            \n",
    "            \n",
    "            \n",
    "            outputs_full = self.entree_sortie_reseau(X_input)[-1]\n",
    "            loss = - labels_input * np.log(outputs_full)\n",
    "            loss = loss.sum()\n",
    "            cross_entropy.append(loss)\n",
    "            \n",
    "        if vis:\n",
    "            plt.figure(figsize=(10, 7))\n",
    "            plt.plot(range(epochs), cross_entropy)\n",
    "            plt.legend(['Cross Entropy'])\n",
    "            plt.title(\"Evolution of the cross entropy loss\")\n",
    "            plt.xlabel(\"iterations\")\n",
    "            plt.ylabel('Cross Entropy')\n",
    "            plt.show()\n",
    "        return self\n",
    "\n",
    "    def test_DNN(self,X_test,y_test):\n",
    "        y_pred = self.entree_sortie_reseau(X_test)[-1]\n",
    "        loss = - y_test * np.log(y_pred)\n",
    "        loss = loss.sum()\n",
    "        accuracy = accuracy_score(y_pred.argmax(axis=1),y_test.argmax(axis=1))\n",
    "        print(\"Loss : {} \".format(loss))\n",
    "        print(\"Accuracy: {}\".format(accuracy))\n",
    "        return loss\n",
    "\n",
    "            "
   ]
  },
  {
   "cell_type": "code",
   "execution_count": 505,
   "metadata": {},
   "outputs": [],
   "source": [
    "y_train_ohe = to_categorical(y_train, 10)\n",
    "y_test_ohe = to_categorical(y_test, 10)"
   ]
  },
  {
   "cell_type": "code",
   "execution_count": 506,
   "metadata": {},
   "outputs": [
    {
     "name": "stderr",
     "output_type": "stream",
     "text": [
      "<ipython-input-248-6016040fd97b>:2: RuntimeWarning: overflow encountered in exp\n",
      "  return 1/(1+np.exp(-x))\n",
      "<ipython-input-248-6016040fd97b>:2: RuntimeWarning: overflow encountered in exp\n",
      "  return 1/(1+np.exp(-x))\n",
      "<ipython-input-248-6016040fd97b>:2: RuntimeWarning: overflow encountered in exp\n",
      "  return 1/(1+np.exp(-x))\n",
      "<ipython-input-248-6016040fd97b>:2: RuntimeWarning: overflow encountered in exp\n",
      "  return 1/(1+np.exp(-x))\n",
      "<ipython-input-248-6016040fd97b>:2: RuntimeWarning: overflow encountered in exp\n",
      "  return 1/(1+np.exp(-x))\n",
      "<ipython-input-248-6016040fd97b>:2: RuntimeWarning: overflow encountered in exp\n",
      "  return 1/(1+np.exp(-x))\n",
      "<ipython-input-248-6016040fd97b>:2: RuntimeWarning: overflow encountered in exp\n",
      "  return 1/(1+np.exp(-x))\n",
      "<ipython-input-248-6016040fd97b>:2: RuntimeWarning: overflow encountered in exp\n",
      "  return 1/(1+np.exp(-x))\n",
      "<ipython-input-248-6016040fd97b>:2: RuntimeWarning: overflow encountered in exp\n",
      "  return 1/(1+np.exp(-x))\n",
      "<ipython-input-248-6016040fd97b>:2: RuntimeWarning: overflow encountered in exp\n",
      "  return 1/(1+np.exp(-x))\n",
      "<ipython-input-248-6016040fd97b>:2: RuntimeWarning: overflow encountered in exp\n",
      "  return 1/(1+np.exp(-x))\n",
      "<ipython-input-248-6016040fd97b>:2: RuntimeWarning: overflow encountered in exp\n",
      "  return 1/(1+np.exp(-x))\n",
      "<ipython-input-248-6016040fd97b>:2: RuntimeWarning: overflow encountered in exp\n",
      "  return 1/(1+np.exp(-x))\n",
      "<ipython-input-248-6016040fd97b>:2: RuntimeWarning: overflow encountered in exp\n",
      "  return 1/(1+np.exp(-x))\n",
      "<ipython-input-248-6016040fd97b>:2: RuntimeWarning: overflow encountered in exp\n",
      "  return 1/(1+np.exp(-x))\n",
      "<ipython-input-248-6016040fd97b>:2: RuntimeWarning: overflow encountered in exp\n",
      "  return 1/(1+np.exp(-x))\n",
      "<ipython-input-248-6016040fd97b>:2: RuntimeWarning: overflow encountered in exp\n",
      "  return 1/(1+np.exp(-x))\n",
      "<ipython-input-248-6016040fd97b>:2: RuntimeWarning: overflow encountered in exp\n",
      "  return 1/(1+np.exp(-x))\n",
      "<ipython-input-248-6016040fd97b>:2: RuntimeWarning: overflow encountered in exp\n",
      "  return 1/(1+np.exp(-x))\n",
      "<ipython-input-248-6016040fd97b>:2: RuntimeWarning: overflow encountered in exp\n",
      "  return 1/(1+np.exp(-x))\n",
      "<ipython-input-248-6016040fd97b>:2: RuntimeWarning: overflow encountered in exp\n",
      "  return 1/(1+np.exp(-x))\n",
      "<ipython-input-248-6016040fd97b>:2: RuntimeWarning: overflow encountered in exp\n",
      "  return 1/(1+np.exp(-x))\n",
      "<ipython-input-248-6016040fd97b>:2: RuntimeWarning: overflow encountered in exp\n",
      "  return 1/(1+np.exp(-x))\n",
      "<ipython-input-248-6016040fd97b>:2: RuntimeWarning: overflow encountered in exp\n",
      "  return 1/(1+np.exp(-x))\n",
      "<ipython-input-248-6016040fd97b>:2: RuntimeWarning: overflow encountered in exp\n",
      "  return 1/(1+np.exp(-x))\n",
      "<ipython-input-248-6016040fd97b>:2: RuntimeWarning: overflow encountered in exp\n",
      "  return 1/(1+np.exp(-x))\n",
      "<ipython-input-248-6016040fd97b>:2: RuntimeWarning: overflow encountered in exp\n",
      "  return 1/(1+np.exp(-x))\n",
      "<ipython-input-248-6016040fd97b>:2: RuntimeWarning: overflow encountered in exp\n",
      "  return 1/(1+np.exp(-x))\n",
      "<ipython-input-248-6016040fd97b>:2: RuntimeWarning: overflow encountered in exp\n",
      "  return 1/(1+np.exp(-x))\n",
      "<ipython-input-248-6016040fd97b>:2: RuntimeWarning: overflow encountered in exp\n",
      "  return 1/(1+np.exp(-x))\n",
      "<ipython-input-248-6016040fd97b>:2: RuntimeWarning: overflow encountered in exp\n",
      "  return 1/(1+np.exp(-x))\n",
      "<ipython-input-248-6016040fd97b>:2: RuntimeWarning: overflow encountered in exp\n",
      "  return 1/(1+np.exp(-x))\n",
      "<ipython-input-248-6016040fd97b>:2: RuntimeWarning: overflow encountered in exp\n",
      "  return 1/(1+np.exp(-x))\n",
      "<ipython-input-248-6016040fd97b>:2: RuntimeWarning: overflow encountered in exp\n",
      "  return 1/(1+np.exp(-x))\n",
      "<ipython-input-248-6016040fd97b>:2: RuntimeWarning: overflow encountered in exp\n",
      "  return 1/(1+np.exp(-x))\n",
      "<ipython-input-248-6016040fd97b>:2: RuntimeWarning: overflow encountered in exp\n",
      "  return 1/(1+np.exp(-x))\n",
      "<ipython-input-248-6016040fd97b>:2: RuntimeWarning: overflow encountered in exp\n",
      "  return 1/(1+np.exp(-x))\n",
      "<ipython-input-248-6016040fd97b>:2: RuntimeWarning: overflow encountered in exp\n",
      "  return 1/(1+np.exp(-x))\n",
      "<ipython-input-248-6016040fd97b>:2: RuntimeWarning: overflow encountered in exp\n",
      "  return 1/(1+np.exp(-x))\n",
      "<ipython-input-248-6016040fd97b>:2: RuntimeWarning: overflow encountered in exp\n",
      "  return 1/(1+np.exp(-x))\n",
      "<ipython-input-248-6016040fd97b>:2: RuntimeWarning: overflow encountered in exp\n",
      "  return 1/(1+np.exp(-x))\n",
      "<ipython-input-248-6016040fd97b>:2: RuntimeWarning: overflow encountered in exp\n",
      "  return 1/(1+np.exp(-x))\n",
      "<ipython-input-248-6016040fd97b>:2: RuntimeWarning: overflow encountered in exp\n",
      "  return 1/(1+np.exp(-x))\n",
      "<ipython-input-248-6016040fd97b>:2: RuntimeWarning: overflow encountered in exp\n",
      "  return 1/(1+np.exp(-x))\n",
      "<ipython-input-248-6016040fd97b>:2: RuntimeWarning: overflow encountered in exp\n",
      "  return 1/(1+np.exp(-x))\n",
      "<ipython-input-248-6016040fd97b>:2: RuntimeWarning: overflow encountered in exp\n",
      "  return 1/(1+np.exp(-x))\n",
      "<ipython-input-248-6016040fd97b>:2: RuntimeWarning: overflow encountered in exp\n",
      "  return 1/(1+np.exp(-x))\n",
      "<ipython-input-248-6016040fd97b>:2: RuntimeWarning: overflow encountered in exp\n",
      "  return 1/(1+np.exp(-x))\n",
      "<ipython-input-248-6016040fd97b>:2: RuntimeWarning: overflow encountered in exp\n",
      "  return 1/(1+np.exp(-x))\n",
      "<ipython-input-248-6016040fd97b>:2: RuntimeWarning: overflow encountered in exp\n",
      "  return 1/(1+np.exp(-x))\n",
      "<ipython-input-248-6016040fd97b>:2: RuntimeWarning: overflow encountered in exp\n",
      "  return 1/(1+np.exp(-x))\n",
      "<ipython-input-248-6016040fd97b>:2: RuntimeWarning: overflow encountered in exp\n",
      "  return 1/(1+np.exp(-x))\n",
      "<ipython-input-248-6016040fd97b>:2: RuntimeWarning: overflow encountered in exp\n",
      "  return 1/(1+np.exp(-x))\n",
      "<ipython-input-248-6016040fd97b>:2: RuntimeWarning: overflow encountered in exp\n",
      "  return 1/(1+np.exp(-x))\n",
      "<ipython-input-248-6016040fd97b>:2: RuntimeWarning: overflow encountered in exp\n",
      "  return 1/(1+np.exp(-x))\n",
      "<ipython-input-248-6016040fd97b>:2: RuntimeWarning: overflow encountered in exp\n",
      "  return 1/(1+np.exp(-x))\n",
      "<ipython-input-248-6016040fd97b>:2: RuntimeWarning: overflow encountered in exp\n",
      "  return 1/(1+np.exp(-x))\n",
      "<ipython-input-248-6016040fd97b>:2: RuntimeWarning: overflow encountered in exp\n",
      "  return 1/(1+np.exp(-x))\n",
      "<ipython-input-248-6016040fd97b>:2: RuntimeWarning: overflow encountered in exp\n",
      "  return 1/(1+np.exp(-x))\n",
      "<ipython-input-248-6016040fd97b>:2: RuntimeWarning: overflow encountered in exp\n",
      "  return 1/(1+np.exp(-x))\n",
      "<ipython-input-248-6016040fd97b>:2: RuntimeWarning: overflow encountered in exp\n",
      "  return 1/(1+np.exp(-x))\n",
      "<ipython-input-248-6016040fd97b>:2: RuntimeWarning: overflow encountered in exp\n",
      "  return 1/(1+np.exp(-x))\n",
      "<ipython-input-248-6016040fd97b>:2: RuntimeWarning: overflow encountered in exp\n",
      "  return 1/(1+np.exp(-x))\n",
      "<ipython-input-248-6016040fd97b>:2: RuntimeWarning: overflow encountered in exp\n",
      "  return 1/(1+np.exp(-x))\n",
      "<ipython-input-248-6016040fd97b>:2: RuntimeWarning: overflow encountered in exp\n",
      "  return 1/(1+np.exp(-x))\n",
      "<ipython-input-248-6016040fd97b>:2: RuntimeWarning: overflow encountered in exp\n",
      "  return 1/(1+np.exp(-x))\n",
      "<ipython-input-248-6016040fd97b>:2: RuntimeWarning: overflow encountered in exp\n",
      "  return 1/(1+np.exp(-x))\n",
      "<ipython-input-248-6016040fd97b>:2: RuntimeWarning: overflow encountered in exp\n",
      "  return 1/(1+np.exp(-x))\n",
      "<ipython-input-248-6016040fd97b>:2: RuntimeWarning: overflow encountered in exp\n",
      "  return 1/(1+np.exp(-x))\n",
      "<ipython-input-248-6016040fd97b>:2: RuntimeWarning: overflow encountered in exp\n",
      "  return 1/(1+np.exp(-x))\n",
      "<ipython-input-248-6016040fd97b>:2: RuntimeWarning: overflow encountered in exp\n",
      "  return 1/(1+np.exp(-x))\n",
      "<ipython-input-248-6016040fd97b>:2: RuntimeWarning: overflow encountered in exp\n",
      "  return 1/(1+np.exp(-x))\n",
      "<ipython-input-248-6016040fd97b>:2: RuntimeWarning: overflow encountered in exp\n",
      "  return 1/(1+np.exp(-x))\n",
      "<ipython-input-248-6016040fd97b>:2: RuntimeWarning: overflow encountered in exp\n",
      "  return 1/(1+np.exp(-x))\n",
      "<ipython-input-248-6016040fd97b>:2: RuntimeWarning: overflow encountered in exp\n",
      "  return 1/(1+np.exp(-x))\n",
      "<ipython-input-248-6016040fd97b>:2: RuntimeWarning: overflow encountered in exp\n",
      "  return 1/(1+np.exp(-x))\n",
      "<ipython-input-248-6016040fd97b>:2: RuntimeWarning: overflow encountered in exp\n",
      "  return 1/(1+np.exp(-x))\n",
      "<ipython-input-248-6016040fd97b>:2: RuntimeWarning: overflow encountered in exp\n",
      "  return 1/(1+np.exp(-x))\n",
      "<ipython-input-248-6016040fd97b>:2: RuntimeWarning: overflow encountered in exp\n",
      "  return 1/(1+np.exp(-x))\n",
      "<ipython-input-248-6016040fd97b>:2: RuntimeWarning: overflow encountered in exp\n",
      "  return 1/(1+np.exp(-x))\n",
      "<ipython-input-248-6016040fd97b>:2: RuntimeWarning: overflow encountered in exp\n",
      "  return 1/(1+np.exp(-x))\n",
      "<ipython-input-248-6016040fd97b>:2: RuntimeWarning: overflow encountered in exp\n",
      "  return 1/(1+np.exp(-x))\n",
      "<ipython-input-248-6016040fd97b>:2: RuntimeWarning: overflow encountered in exp\n",
      "  return 1/(1+np.exp(-x))\n",
      "<ipython-input-248-6016040fd97b>:2: RuntimeWarning: overflow encountered in exp\n",
      "  return 1/(1+np.exp(-x))\n",
      "<ipython-input-248-6016040fd97b>:2: RuntimeWarning: overflow encountered in exp\n",
      "  return 1/(1+np.exp(-x))\n",
      "<ipython-input-248-6016040fd97b>:2: RuntimeWarning: overflow encountered in exp\n",
      "  return 1/(1+np.exp(-x))\n",
      "<ipython-input-248-6016040fd97b>:2: RuntimeWarning: overflow encountered in exp\n",
      "  return 1/(1+np.exp(-x))\n",
      "<ipython-input-248-6016040fd97b>:2: RuntimeWarning: overflow encountered in exp\n",
      "  return 1/(1+np.exp(-x))\n",
      "<ipython-input-248-6016040fd97b>:2: RuntimeWarning: overflow encountered in exp\n",
      "  return 1/(1+np.exp(-x))\n",
      "<ipython-input-248-6016040fd97b>:2: RuntimeWarning: overflow encountered in exp\n",
      "  return 1/(1+np.exp(-x))\n",
      "<ipython-input-248-6016040fd97b>:2: RuntimeWarning: overflow encountered in exp\n",
      "  return 1/(1+np.exp(-x))\n",
      "<ipython-input-248-6016040fd97b>:2: RuntimeWarning: overflow encountered in exp\n",
      "  return 1/(1+np.exp(-x))\n",
      "<ipython-input-248-6016040fd97b>:2: RuntimeWarning: overflow encountered in exp\n",
      "  return 1/(1+np.exp(-x))\n",
      "<ipython-input-248-6016040fd97b>:2: RuntimeWarning: overflow encountered in exp\n",
      "  return 1/(1+np.exp(-x))\n",
      "<ipython-input-248-6016040fd97b>:2: RuntimeWarning: overflow encountered in exp\n",
      "  return 1/(1+np.exp(-x))\n",
      "<ipython-input-248-6016040fd97b>:2: RuntimeWarning: overflow encountered in exp\n",
      "  return 1/(1+np.exp(-x))\n",
      "<ipython-input-248-6016040fd97b>:2: RuntimeWarning: overflow encountered in exp\n",
      "  return 1/(1+np.exp(-x))\n",
      "<ipython-input-248-6016040fd97b>:2: RuntimeWarning: overflow encountered in exp\n",
      "  return 1/(1+np.exp(-x))\n",
      "<ipython-input-248-6016040fd97b>:2: RuntimeWarning: overflow encountered in exp\n",
      "  return 1/(1+np.exp(-x))\n",
      "<ipython-input-248-6016040fd97b>:2: RuntimeWarning: overflow encountered in exp\n",
      "  return 1/(1+np.exp(-x))\n",
      "<ipython-input-248-6016040fd97b>:2: RuntimeWarning: overflow encountered in exp\n",
      "  return 1/(1+np.exp(-x))\n"
     ]
    }
   ],
   "source": [
    "# Quick test\n",
    "\n",
    "X_train_subset = X_train[:2000]\n",
    "y_train_subset = y_train_ohe[:2000]\n",
    "\n",
    "X_train_input = X_train_subset.reshape(X_train_subset.shape[0],-1)\n",
    "shapes_list1=[784, 150, 10]\n",
    "dnn1 = DNN(nb_layers=2,shapes_list=shapes_list1)\n",
    "dnn1 = dnn1.pretrain_DNN(X_train_input,epochs=100,batch_size=64)"
   ]
  },
  {
   "cell_type": "code",
   "execution_count": 507,
   "metadata": {},
   "outputs": [
    {
     "name": "stderr",
     "output_type": "stream",
     "text": [
      "<ipython-input-248-6016040fd97b>:2: RuntimeWarning: overflow encountered in exp\n",
      "  return 1/(1+np.exp(-x))\n"
     ]
    },
    {
     "data": {
      "image/png": "[encoded data removed]",
      "text/plain": [
       "<Figure size 720x504 with 1 Axes>"
      ]
     },
     "metadata": {
      "needs_background": "light"
     },
     "output_type": "display_data"
    }
   ],
   "source": [
    "dnn1 = DNN(nb_layers=2,shapes_list=shapes_list1)\n",
    "dnn1 = dnn1.retropropagation(X_train_input,y_train_subset,epochs=200,learning_rate = 0.1,batch_size=64, vis=True)"
   ]
  },
  {
   "cell_type": "code",
   "execution_count": 508,
   "metadata": {},
   "outputs": [
    {
     "name": "stdout",
     "output_type": "stream",
     "text": [
      "Loss : 5181.376792780085 \n",
      "Accuracy: 0.8356\n"
     ]
    },
    {
     "name": "stderr",
     "output_type": "stream",
     "text": [
      "<ipython-input-248-6016040fd97b>:2: RuntimeWarning: overflow encountered in exp\n",
      "  return 1/(1+np.exp(-x))\n"
     ]
    }
   ],
   "source": [
    "dnn1.test_DNN(X_test.reshape(X_test.shape[0],-1),y_test_ohe);"
   ]
  }
 ],
 "metadata": {
  "kernelspec": {
   "display_name": "Python 3",
   "language": "python",
   "name": "python3"
  },
  "language_info": {
   "codemirror_mode": {
    "name": "ipython",
    "version": 3
   },
   "file_extension": ".py",
   "mimetype": "text/x-python",
   "name": "python",
   "nbconvert_exporter": "python",
   "pygments_lexer": "ipython3",
   "version": "3.8.5"
  },
  "orig_nbformat": 4,
  "vscode": {
   "interpreter": {
    "hash": "8c2dc7f55a4afb133f9671f18548a683b80d7f864af89313bd9839ac682f147f"
   }
  }
 },
 "nbformat": 4,
 "nbformat_minor": 2
}
