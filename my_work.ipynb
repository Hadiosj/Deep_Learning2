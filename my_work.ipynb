{
 "cells": [
  {
   "cell_type": "code",
   "execution_count": 48,
   "metadata": {},
   "outputs": [],
   "source": [
    "from mnist import MNIST\n",
    "import numpy as np\n",
    "import matplotlib.pyplot as plt\n",
    "import scipy.io\n",
    "from ipywidgets import interact"
   ]
  },
  {
   "cell_type": "code",
   "execution_count": 38,
   "metadata": {},
   "outputs": [],
   "source": [
    "def lire_alpha_digit(digits, chars):\n",
    "    \"\"\"\n",
    "    Takes as input alpha_digits and an array 'chars' containing the letters or integers to select from the alpha_digits\n",
    "    \"\"\"\n",
    "    indexes = []\n",
    "    for chr in chars:\n",
    "        # check if positive integer\n",
    "        if (chr.isdigit() and int(chr)<10 and int(chr)>0):\n",
    "            indexes.append(int(chr))\n",
    "        # check if letter\n",
    "        elif(chr.isalpha() and len(chr)==1):\n",
    "            indexes.append(ord(chr.lower()) - 87)\n",
    "    return digits[indexes, :]"
   ]
  },
  {
   "cell_type": "code",
   "execution_count": 54,
   "metadata": {},
   "outputs": [
    {
     "data": {
      "application/vnd.jupyter.widget-view+json": {
       "model_id": "e118de32b56c41b98a97b2ad30f1b462",
       "version_major": 2,
       "version_minor": 0
      },
      "text/plain": [
       "interactive(children=(IntSlider(value=0, description='chars', max=3), Output()), _dom_classes=('widget-interac…"
      ]
     },
     "metadata": {},
     "output_type": "display_data"
    },
    {
     "data": {
      "text/plain": [
       "<function __main__.plot_chars(chars=0)>"
      ]
     },
     "execution_count": 54,
     "metadata": {},
     "output_type": "execute_result"
    }
   ],
   "source": [
    "digits = scipy.io.loadmat('binaryalphadigs.mat')['dat']\n",
    "\n",
    "selected_digits = lire_alpha_digit(digits, ['3', '7', 'A', '-5', 'cb', 'X']) # -5 and 'cb' won't be taken into consideration\n",
    "\n",
    "def plot_chars(chars=0):\n",
    "    plt.imshow(selected_digits[chars][15])\n",
    "    plt.show()\n",
    "interact(plot_chars, chars=(0,selected_digits.shape[0]-1))"
   ]
  },
  {
   "attachments": {},
   "cell_type": "markdown",
   "metadata": {},
   "source": [
    "A file named 'MNIST' in the same directory should contain the training and testing files extracted, and renamed by replacing the '.' to a '-' <br>\n",
    "(ex: t10k-images.idx3-ubyte -> t10k-images-idx3-ubyte)"
   ]
  },
  {
   "cell_type": "code",
   "execution_count": 40,
   "metadata": {},
   "outputs": [],
   "source": [
    "mndata = MNIST('MNIST')\n",
    "X_train, y_train = mndata.load_training()\n",
    "X_test, y_test = mndata.load_testing()\n",
    "\n",
    "X_train = np.array(X_train)\n",
    "X_train = X_train.reshape(X_train.shape[0], 28, 28)\n",
    "y_train = np.array(y_train)\n",
    "\n",
    "X_test = np.array(X_test)\n",
    "X_test = X_test.reshape(X_test.shape[0], 28, 28)\n",
    "y_test = np.array(y_test)"
   ]
  },
  {
   "cell_type": "code",
   "execution_count": 41,
   "metadata": {},
   "outputs": [
    {
     "data": {
      "image/png": "[encoded data removed]",
      "text/plain": [
       "<Figure size 640x480 with 1 Axes>"
      ]
     },
     "metadata": {},
     "output_type": "display_data"
    }
   ],
   "source": [
    "plt.imshow(X_train[85], cmap='gray')\n",
    "plt.show()"
   ]
  },
  {
   "cell_type": "code",
   "execution_count": 42,
   "metadata": {},
   "outputs": [],
   "source": [
    "def black_white(X, threshold = 125):\n",
    "    \"\"\"\n",
    "    Convert grayscale images of input X to black-and-white images based on given threshold.\n",
    "    \"\"\"\n",
    "    XX = np.empty_like(X)\n",
    "    XX[X< threshold] = 0\n",
    "    XX[X>=threshold] = 1\n",
    "    XX = XX.reshape(*XX.shape, 1) \n",
    "    return XX"
   ]
  },
  {
   "cell_type": "code",
   "execution_count": 43,
   "metadata": {},
   "outputs": [
    {
     "data": {
      "image/png": "[encoded data removed]",
      "text/plain": [
       "<Figure size 640x480 with 1 Axes>"
      ]
     },
     "metadata": {},
     "output_type": "display_data"
    }
   ],
   "source": [
    "X_train_new = black_white(X_train)\n",
    "\n",
    "plt.imshow(X_train_new[85], cmap='gray')\n",
    "plt.show()"
   ]
  },
  {
   "cell_type": "code",
   "execution_count": 44,
   "metadata": {},
   "outputs": [],
   "source": [
    "def init_RBM(in_shape, out_shape, var=0.1):\n",
    "    \"\"\"\n",
    "    Initialize an RBM structure with biases set to zeros and weights following a centered normal distribution.\n",
    "    \"\"\"\n",
    "    a = np.zeros(in_shape)\n",
    "    b = np.zeros(out_shape)\n",
    "    W = np.random.normal(0, var, (in_shape, out_shape))\n",
    "    return a, b, W\n",
    "\n",
    "a, b, W = init_RBM(5, 6)"
   ]
  },
  {
   "cell_type": "code",
   "execution_count": 45,
   "metadata": {},
   "outputs": [],
   "source": [
    "def sigmoid(x):\n",
    "    return 1/(1+np.exp(x))\n",
    "\n",
    "class RBM:\n",
    "    def __init__(self, in_shape, out_shape, W=None, a=None, b=None, var=0.1):\n",
    "        assert in_shape != 0 and out_shape != 0\n",
    "        self.in_shape = in_shape\n",
    "        self.out_shape = out_shape\n",
    "        \n",
    "        self.a = a if a is not None else np.zeros(in_shape)\n",
    "        self.b = b if b is not None else np.zeros(out_shape)\n",
    "        self.W = W if W is not None else np.random.normal(0, var, (in_shape, out_shape))\n",
    "        assert self.W.shape == (in_shape, out_shape) and (self.a).shape[0] == in_shape and (self.b).shape[0] == out_shape\n",
    "        return\n",
    "    \n",
    "    def entree_sortie_RBM(self, X_input):\n",
    "        prod = np.dot(X_input, self.W) + self.b\n",
    "        assert prod.shape == (X_input.shape[0], self.out_shape)\n",
    "        sig = sigmoid(prod)\n",
    "        return np.random.binomial(1, sig, prod.shape)\n",
    "    \n",
    "    def sortie_entree_RBM(self, X_output):\n",
    "        prod = np.dot(X_output, self.W.T) + self.a\n",
    "        assert prod.shape == (X_output.shape[0], self.in_shape)\n",
    "        sig = sigmoid(prod)\n",
    "        return np.random.binomial(1, sig, prod.shape)\n"
   ]
  },
  {
   "cell_type": "code",
   "execution_count": 46,
   "metadata": {},
   "outputs": [
    {
     "data": {
      "text/plain": [
       "array([[0, 0, 0, 0],\n",
       "       [1, 0, 0, 1],\n",
       "       [1, 0, 0, 1],\n",
       "       [1, 0, 0, 1],\n",
       "       [1, 0, 0, 1],\n",
       "       [1, 0, 1, 1],\n",
       "       [1, 0, 1, 1],\n",
       "       [1, 0, 0, 1]])"
      ]
     },
     "execution_count": 46,
     "metadata": {},
     "output_type": "execute_result"
    }
   ],
   "source": [
    "my_rbm = RBM(7, 4)\n",
    "\n",
    "# Testing entree_sortie_RBM\n",
    "in_try = np.random.randint(low=0, high=255, size = (8,7))\n",
    "my_rbm.entree_sortie_RBM(in_try)\n"
   ]
  },
  {
   "cell_type": "code",
   "execution_count": 47,
   "metadata": {},
   "outputs": [
    {
     "data": {
      "text/plain": [
       "array([[0, 1, 0, 1, 1, 0, 1],\n",
       "       [0, 1, 0, 1, 1, 0, 1],\n",
       "       [0, 0, 0, 0, 1, 0, 1],\n",
       "       [0, 0, 0, 0, 1, 0, 0],\n",
       "       [0, 0, 0, 0, 1, 0, 0],\n",
       "       [0, 0, 0, 0, 1, 0, 1],\n",
       "       [0, 0, 0, 0, 1, 0, 1],\n",
       "       [0, 0, 0, 1, 1, 0, 1]])"
      ]
     },
     "execution_count": 47,
     "metadata": {},
     "output_type": "execute_result"
    }
   ],
   "source": [
    "# Testing sortie_entree_RBM\n",
    "out_try = np.random.randint(low=0, high=255, size = (8,4))\n",
    "my_rbm.sortie_entree_RBM(out_try)"
   ]
  }
 ],
 "metadata": {
  "kernelspec": {
   "display_name": "Python 3",
   "language": "python",
   "name": "python3"
  },
  "language_info": {
   "codemirror_mode": {
    "name": "ipython",
    "version": 3
   },
   "file_extension": ".py",
   "mimetype": "text/x-python",
   "name": "python",
   "nbconvert_exporter": "python",
   "pygments_lexer": "ipython3",
   "version": "3.7.3"
  },
  "orig_nbformat": 4,
  "vscode": {
   "interpreter": {
    "hash": "8c2dc7f55a4afb133f9671f18548a683b80d7f864af89313bd9839ac682f147f"
   }
  }
 },
 "nbformat": 4,
 "nbformat_minor": 2
}
