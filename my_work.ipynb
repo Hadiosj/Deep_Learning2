{
 "cells": [
  {
   "cell_type": "code",
   "execution_count": 422,
   "metadata": {},
   "outputs": [],
   "source": [
    "from mnist import MNIST\n",
    "import numpy as np\n",
    "import matplotlib.pyplot as plt\n",
    "import scipy.io\n",
    "from ipywidgets import interact\n",
    "from sklearn.metrics import mean_squared_error as mse"
   ]
  },
  {
   "cell_type": "code",
   "execution_count": 423,
   "metadata": {},
   "outputs": [],
   "source": [
    "def lire_alpha_digit(digits, chars):\n",
    "    \"\"\"\n",
    "    Takes as input alpha_digits and an array 'chars' containing the letters or integers to select from the alpha_digits\n",
    "    \"\"\"\n",
    "    indexes = []\n",
    "    for chr in chars:\n",
    "        # check if positive integer\n",
    "        if (chr.isdigit() and int(chr)<10 and int(chr)>0):\n",
    "            indexes.append(int(chr))\n",
    "        # check if letter\n",
    "        elif(chr.isalpha() and len(chr)==1):\n",
    "            indexes.append(ord(chr.lower()) - 87)\n",
    "    return digits[indexes, :]"
   ]
  },
  {
   "cell_type": "code",
   "execution_count": 424,
   "metadata": {},
   "outputs": [
    {
     "data": {
      "image/png": "[encoded data removed]",
      "text/plain": [
       "<Figure size 640x480 with 4 Axes>"
      ]
     },
     "metadata": {},
     "output_type": "display_data"
    }
   ],
   "source": [
    "digits = scipy.io.loadmat('binaryalphadigs.mat')['dat']\n",
    "\n",
    "selected_digits = lire_alpha_digit(digits, ['3', '7', 'A', '-5', 'cb', 'X']) # -5 and 'cb' won't be taken into consideration\n",
    "\n",
    "fig, axs = plt.subplots(1, selected_digits.shape[0])\n",
    "for char in range(selected_digits.shape[0]):\n",
    "    axs[char].imshow(selected_digits[char][7])"
   ]
  },
  {
   "attachments": {},
   "cell_type": "markdown",
   "metadata": {},
   "source": [
    "A file named 'MNIST' in the same directory should contain the training and testing files extracted, and renamed by replacing the '.' to a '-' <br>\n",
    "(ex: t10k-images.idx3-ubyte -> t10k-images-idx3-ubyte)"
   ]
  },
  {
   "cell_type": "code",
   "execution_count": 425,
   "metadata": {},
   "outputs": [],
   "source": [
    "mndata = MNIST('MNIST')\n",
    "X_train, y_train = mndata.load_training()\n",
    "X_test, y_test = mndata.load_testing()\n",
    "\n",
    "X_train = np.array(X_train)\n",
    "X_train = X_train.reshape(X_train.shape[0], 28, 28)\n",
    "y_train = np.array(y_train)\n",
    "\n",
    "X_test = np.array(X_test)\n",
    "X_test = X_test.reshape(X_test.shape[0], 28, 28)\n",
    "y_test = np.array(y_test)"
   ]
  },
  {
   "cell_type": "code",
   "execution_count": 426,
   "metadata": {},
   "outputs": [
    {
     "data": {
      "image/png": "[encoded data removed]",
      "text/plain": [
       "<Figure size 800x800 with 5 Axes>"
      ]
     },
     "metadata": {},
     "output_type": "display_data"
    }
   ],
   "source": [
    "randoms = np.random.randint(0, X_train.shape[0], 5)\n",
    "\n",
    "fig, axs = plt.subplots(1, randoms.shape[0], figsize=(8,8))\n",
    "for char, ind in enumerate(randoms):\n",
    "    axs[char].axis('off')\n",
    "    axs[char].imshow(X_train[ind], cmap='gray')"
   ]
  },
  {
   "cell_type": "code",
   "execution_count": 427,
   "metadata": {},
   "outputs": [],
   "source": [
    "def black_white(X, threshold = 125):\n",
    "    \"\"\"\n",
    "    Convert grayscale images of input X to black-and-white images based on given threshold.\n",
    "    \"\"\"\n",
    "    XX = np.empty_like(X)\n",
    "    XX[X< threshold] = 0\n",
    "    XX[X>=threshold] = 1\n",
    "    XX = XX.reshape(*XX.shape, 1) \n",
    "    return XX"
   ]
  },
  {
   "cell_type": "code",
   "execution_count": 428,
   "metadata": {},
   "outputs": [
    {
     "data": {
      "image/png": "[encoded data removed]",
      "text/plain": [
       "<Figure size 800x800 with 5 Axes>"
      ]
     },
     "metadata": {},
     "output_type": "display_data"
    }
   ],
   "source": [
    "#Testing black_white function\n",
    "X_train_new = black_white(X_train)\n",
    "\n",
    "fig, axs = plt.subplots(1, randoms.shape[0], figsize=(8,8))\n",
    "for char, ind in enumerate(randoms):\n",
    "    axs[char].axis('off')\n",
    "    axs[char].imshow(X_train_new[ind], cmap='gray')"
   ]
  },
  {
   "cell_type": "code",
   "execution_count": 429,
   "metadata": {},
   "outputs": [],
   "source": [
    "def sigmoid(x):\n",
    "    return 1/(1+np.exp(x))\n",
    "\n",
    "class RBM:\n",
    "    def __init__(self, in_shape, out_shape, W=None, a=None, b=None, var=0.1):\n",
    "        assert in_shape != 0 and out_shape != 0\n",
    "        self.in_shape = in_shape\n",
    "        self.out_shape = out_shape\n",
    "        \n",
    "        self.a = a if a is not None else np.zeros(in_shape)\n",
    "        self.b = b if b is not None else np.zeros(out_shape)\n",
    "        self.W = W if W is not None else np.random.normal(0, var, (in_shape, out_shape))\n",
    "        assert self.W.shape == (in_shape, out_shape) and (self.a).shape[0] == in_shape and (self.b).shape[0] == out_shape\n",
    "        return\n",
    "    \n",
    "    def entree_sortie_RBM(self, X_input):\n",
    "        # print(\"X_input\", X_input.shape)\n",
    "        # print(\"X.W\", np.dot(X_input, self.W).shape)\n",
    "        # print(\"b\", self.b.shape)\n",
    "        prod = np.dot(X_input, self.W) + self.b\n",
    "        # print(\"prod\", prod.shape)\n",
    "        assert prod.shape == (X_input.shape[0], self.out_shape), f\"prod shape {prod.shape} != (X_input.shape[0], self.out_shape) {(X_input.shape[0], self.out_shape)}\"\n",
    "        sig = sigmoid(prod)\n",
    "        return sig, np.random.binomial(1, sig, prod.shape)\n",
    "    \n",
    "    def sortie_entree_RBM(self, X_output):\n",
    "        prod = np.dot(X_output, self.W.T) + self.a\n",
    "        assert prod.shape == (X_output.shape[0], self.in_shape)\n",
    "        sig = sigmoid(prod)\n",
    "        return sig, np.random.binomial(1, sig, prod.shape)\n",
    "    \n",
    "    def train_RBM(self, X_input, epochs=10, learning_rate=0.1, batch_size=1, vis = False):\n",
    "        errors = []\n",
    "        for i in range(epochs):\n",
    "            final=False\n",
    "            for bat in range(0, X_input.shape[0], batch_size):\n",
    "                if((bat+batch_size) >= X_input.shape[0]):\n",
    "                    final = True\n",
    "                    v_0 = X_input[bat:]\n",
    "                else:\n",
    "                    v_0 = X_input[bat:bat+batch_size]\n",
    "                # print(\"v0\", v_0.shape)\n",
    "                h_0p, h_0d = self.entree_sortie_RBM(v_0)\n",
    "                # print(\"h0_p\", h_0p.shape)\n",
    "                v_1p, v_1d = self.sortie_entree_RBM(h_0d)\n",
    "                # print(\"v1_p\", v_1p.shape)\n",
    "                h_1p, h_1d = self.entree_sortie_RBM(v_1d)\n",
    "                # print(\"h_1p\", h_1p.shape)\n",
    "                # print(\"mult\", np.outer(v_0,h_0p).shape)\n",
    "                # print(\"mult2\", np.tensordot(v_0, h_0p, axes=((0),(0))).shape)\n",
    "                # print(\"Old W\", self.W)\n",
    "                self.W = self.W + learning_rate * (np.tensordot(v_0, h_0p, axes=((0),(0))) - np.tensordot(v_1p, h_1p, axes=((0),(0))))\n",
    "                # print(\"New W\", self.W)\n",
    "                self.a = self.a + learning_rate * np.sum(v_0 - v_1p, 0)\n",
    "                # print(\"h_0p-h_1p\", np.sum(h_0p - h_1p, 0).shape)\n",
    "                # print(\"before\", self.b.shape)\n",
    "                self.b = self.b + learning_rate * np.sum(h_0p - h_1p, 0)\n",
    "                # print(\"after\", self.b.shape)\n",
    "                if (final):\n",
    "                    err = mse(v_0, v_1d)\n",
    "                    errors.append(err)\n",
    "                    if (vis):\n",
    "                        print(f\"Epoch {i} mse:{err}\")\n",
    "        return errors\n",
    "            "
   ]
  },
  {
   "cell_type": "code",
   "execution_count": 430,
   "metadata": {},
   "outputs": [
    {
     "name": "stdout",
     "output_type": "stream",
     "text": [
      "RBM shape: (8, 4)\n",
      "\n",
      "Input shape: (6, 8)\n",
      "After Entree_sortie: (6, 4)\n",
      "\n",
      "Input shape to hidden layer: (13, 4)\n",
      "After Sortie_Entree (13, 8)\n"
     ]
    }
   ],
   "source": [
    "testing_rbm = RBM(8, 4)\n",
    "print(\"RBM shape:\", testing_rbm.W.shape)\n",
    "\n",
    "# Testing entree_sortie_RBM\n",
    "in_try = np.random.randint(low=0, high=2, size = (6,8))\n",
    "print(\"\\nInput shape:\", in_try.shape)\n",
    "print(\"After Entree_sortie:\", testing_rbm.entree_sortie_RBM(in_try)[1].shape)\n",
    "\n",
    "# Testing sortie_entree_RBM\n",
    "out_try = np.random.randint(low=0, high=255, size = (13,4))\n",
    "print(\"\\nInput shape to hidden layer:\", out_try.shape)\n",
    "print(\"After Sortie_Entree\", testing_rbm.sortie_entree_RBM(out_try)[1].shape)\n"
   ]
  },
  {
   "cell_type": "code",
   "execution_count": 431,
   "metadata": {},
   "outputs": [
    {
     "data": {
      "text/plain": [
       "[<matplotlib.lines.Line2D at 0x1b28d50f668>]"
      ]
     },
     "execution_count": 431,
     "metadata": {},
     "output_type": "execute_result"
    },
    {
     "data": {
      "image/png": "[encoded data removed]",
      "text/plain": [
       "<Figure size 640x480 with 1 Axes>"
      ]
     },
     "metadata": {},
     "output_type": "display_data"
    }
   ],
   "source": [
    "img_RBM = RBM(320, 250)\n",
    "plt.plot(img_RBM.train_RBM(selected_digits[0][0].flatten().reshape(1, -1), 1000, 0.01))"
   ]
  }
 ],
 "metadata": {
  "kernelspec": {
   "display_name": "Python 3",
   "language": "python",
   "name": "python3"
  },
  "language_info": {
   "codemirror_mode": {
    "name": "ipython",
    "version": 3
   },
   "file_extension": ".py",
   "mimetype": "text/x-python",
   "name": "python",
   "nbconvert_exporter": "python",
   "pygments_lexer": "ipython3",
   "version": "3.7.3"
  },
  "orig_nbformat": 4,
  "vscode": {
   "interpreter": {
    "hash": "8c2dc7f55a4afb133f9671f18548a683b80d7f864af89313bd9839ac682f147f"
   }
  }
 },
 "nbformat": 4,
 "nbformat_minor": 2
}
